{
 "cells": [
  {
   "cell_type": "code",
   "execution_count": 1,
   "metadata": {},
   "outputs": [],
   "source": [
    "import pandas as pd\n",
    "import matplotlib.pyplot as plt"
   ]
  },
  {
   "cell_type": "code",
   "execution_count": 2,
   "metadata": {},
   "outputs": [],
   "source": [
    "results = pd.read_csv(\"results_snr_0.33.csv\")"
   ]
  },
  {
   "cell_type": "code",
   "execution_count": 3,
   "metadata": {},
   "outputs": [],
   "source": [
    "pesq = results[\"pesq\"].to_numpy()\n",
    "estoi = results[\"estoi\"].to_numpy()\n",
    "si_sdr = results[\"si_sdr\"].to_numpy()"
   ]
  },
  {
   "cell_type": "code",
   "execution_count": 40,
   "metadata": {},
   "outputs": [
    {
     "data": {
      "image/png": "[encoded data removed]",
      "text/plain": [
       "<Figure size 136.8x144 with 2 Axes>"
      ]
     },
     "metadata": {
      "needs_background": "light"
     },
     "output_type": "display_data"
    }
   ],
   "source": [
    "plt.rcParams['text.usetex'] = True\n",
    "plt.rcParams[\"font.family\"] = \"serif\"\n",
    "plt.rcParams['font.serif'] = \"Times\"\n",
    "plt.rcParams[\"font.size\"] = 10\n",
    "\n",
    "plt.figure(figsize=(1.9, 2))\n",
    "ax1 = plt.subplot()\n",
    "l1, = ax1.plot(pesq, color='blue', linewidth=1)\n",
    "ax2 = ax1.twinx()\n",
    "l2, = ax2.plot(si_sdr, color='red', linewidth=1)\n",
    "ax1.set_ylabel(\"PESQ\", color='red')\n",
    "ax2.set_ylabel(\"SI-SDR [dB]\", color='blue')\n",
    "ax1.set_xlabel(\"$N$\")\n",
    "ax2.set_yticks([0, 17])\n",
    "plt.vlines(x=30, ymin=si_sdr.min(), ymax=si_sdr.max(), linewidth=1, linestyles=\"dashed\", colors=\"grey\")\n",
    "\n",
    "plt.xticks([0, 30])\n",
    "#plt.legend([l1, l2], [\"PESQ\", \"SI-SDR\"])\n",
    "plt.tight_layout()\n",
    "\n",
    "plt.savefig('reverse_steps.pdf', format='pdf')\n",
    "\n"
   ]
  },
  {
   "cell_type": "code",
   "execution_count": null,
   "metadata": {},
   "outputs": [],
   "source": []
  }
 ],
 "metadata": {
  "kernelspec": {
   "display_name": "Python 3.8.10 ('sgmse')",
   "language": "python",
   "name": "python3"
  },
  "language_info": {
   "codemirror_mode": {
    "name": "ipython",
    "version": 3
   },
   "file_extension": ".py",
   "mimetype": "text/x-python",
   "name": "python",
   "nbconvert_exporter": "python",
   "pygments_lexer": "ipython3",
   "version": "3.8.10"
  },
  "orig_nbformat": 4,
  "vscode": {
   "interpreter": {
    "hash": "7189443c4af26eca84b17f62d263c6e7bcb6eef66f91669c513a4bc9a2565eda"
   }
  }
 },
 "nbformat": 4,
 "nbformat_minor": 2
}
