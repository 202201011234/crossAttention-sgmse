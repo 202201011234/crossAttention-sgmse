{
 "cells": [
  {
   "cell_type": "code",
   "execution_count": 1,
   "metadata": {},
   "outputs": [],
   "source": [
    "import pandas as pd\n",
    "import matplotlib.pyplot as plt"
   ]
  },
  {
   "cell_type": "code",
   "execution_count": 2,
   "metadata": {},
   "outputs": [],
   "source": [
    "results = pd.read_csv(\"results_snr_steps_1_full.csv\")"
   ]
  },
  {
   "cell_type": "code",
   "execution_count": 3,
   "metadata": {},
   "outputs": [],
   "source": [
    "snr = results[\"snr\"].to_numpy()\n",
    "pesq = results[\"pesq\"].to_numpy()\n",
    "estoi = results[\"estoi\"].to_numpy()\n",
    "si_sdr = results[\"si_sdr\"].to_numpy()\n",
    "si_sir = results[\"si_sir\"].to_numpy()\n",
    "si_sar = results[\"si_sar\"].to_numpy()"
   ]
  },
  {
   "cell_type": "code",
   "execution_count": 14,
   "metadata": {},
   "outputs": [
    {
     "data": {
      "image/png": "[encoded data removed]",
      "text/plain": [
       "<Figure size 227.52x144 with 3 Axes>"
      ]
     },
     "metadata": {
      "needs_background": "light"
     },
     "output_type": "display_data"
    }
   ],
   "source": [
    "plt.rcParams['text.usetex'] = True\n",
    "plt.rcParams[\"font.family\"] = \"serif\"\n",
    "plt.rcParams[\"font.size\"] = 8\n",
    "\n",
    "plt.figure(figsize=(3.16, 2))\n",
    "ax1 = plt.subplot()\n",
    "l1, = ax1.plot(snr,pesq, color='blue')\n",
    "ax2 = ax1.twinx()\n",
    "ax3 = ax1.twinx()\n",
    "ax3.spines['right'].set_position(('outward', 30))\n",
    "\n",
    "l2, = ax2.plot(snr, si_sdr, color='orange')\n",
    "l3, = ax3.plot(snr, si_sir, color='yellow')\n",
    "l4, = ax2.plot(snr, si_sar, color='red')\n",
    "ax1.set_ylabel(\"PESQ\")\n",
    "ax2.set_ylabel(\"SI-SDR, SI-SAR [dB]\")\n",
    "ax3.set_ylabel(\"SI-SIR [dB]\")\n",
    "ax1.set_xlabel(\"snr\")\n",
    "\n",
    "#plt.legend()\n",
    "ax1.legend([l1, l2, l3, l4], [\"PESQ\", \"SI-SDR\", \"SI-SIR\", \"SI-SAR\"], bbox_to_anchor=(0.83, 0.53))\n",
    "\n",
    "plt.tight_layout()\n",
    "\n",
    "plt.savefig('snr_corr_step_1_full.pdf', format='pdf')\n",
    "\n"
   ]
  },
  {
   "cell_type": "code",
   "execution_count": null,
   "metadata": {},
   "outputs": [],
   "source": []
  }
 ],
 "metadata": {
  "kernelspec": {
   "display_name": "Python 3.8.10 ('sgmse')",
   "language": "python",
   "name": "python3"
  },
  "language_info": {
   "codemirror_mode": {
    "name": "ipython",
    "version": 3
   },
   "file_extension": ".py",
   "mimetype": "text/x-python",
   "name": "python",
   "nbconvert_exporter": "python",
   "pygments_lexer": "ipython3",
   "version": "3.8.10"
  },
  "orig_nbformat": 4,
  "vscode": {
   "interpreter": {
    "hash": "7189443c4af26eca84b17f62d263c6e7bcb6eef66f91669c513a4bc9a2565eda"
   }
  }
 },
 "nbformat": 4,
 "nbformat_minor": 2
}
